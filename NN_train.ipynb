{
 "cells": [
  {
   "cell_type": "code",
   "execution_count": 9,
   "metadata": {},
   "outputs": [],
   "source": [
    "inputs=[[0,0],[0,1],[1,0],[1,1]]\n",
    "outputs=[0,1,1,1]"
   ]
  },
  {
   "cell_type": "code",
   "execution_count": 10,
   "metadata": {},
   "outputs": [],
   "source": [
    "import numpy as np\n",
    "input_value=np.array(inputs)\n",
    "output=np.array(outputs)\n",
    "output=output.reshape(len(output),1)"
   ]
  },
  {
   "cell_type": "code",
   "execution_count": 11,
   "metadata": {},
   "outputs": [
    {
     "data": {
      "text/plain": [
       "((4, 2), (4, 1))"
      ]
     },
     "execution_count": 11,
     "metadata": {},
     "output_type": "execute_result"
    }
   ],
   "source": [
    "input_value.shape,output.shape"
   ]
  },
  {
   "cell_type": "code",
   "execution_count": 12,
   "metadata": {},
   "outputs": [],
   "source": [
    "def sigmoid_function(x):\n",
    "    return 1/1+np.exp(-x)\n",
    "def derivative_fun(x):\n",
    "    return sigmoid_function(x) * (1 - sigmoid_function(x))"
   ]
  },
  {
   "cell_type": "code",
   "execution_count": 13,
   "metadata": {},
   "outputs": [],
   "source": [
    "weight=np.array([[0,1],[0,1]])\n",
    "bias=0.5"
   ]
  },
  {
   "cell_type": "code",
   "execution_count": 14,
   "metadata": {},
   "outputs": [],
   "source": [
    "error_data = []\n",
    "for epoch in range(500):\n",
    "  weighted_sum = np.dot(input_value,weight) +bias\n",
    "  firstoutput = sigmoid_function(weighted_sum)\n",
    "  error = firstoutput - output \n",
    "  first_der = error \n",
    "  second_der = derivative_fun(firstoutput) \n",
    "  derivative = first_der * second_der\n",
    "  t_input = input_value.T\n",
    "  final_derivative = np.dot(t_input, derivative)\n",
    "  weight = weight - 0.05 * final_derivative \n",
    "  for i in derivative:\n",
    "    bias = bias - 0.05 * i\n",
    "  total_error = np.square(np.subtract(firstoutput, output)).mean()\n",
    "  error_data.append([1, total_error])"
   ]
  },
  {
   "cell_type": "code",
   "execution_count": 15,
   "metadata": {},
   "outputs": [],
   "source": [
    "#! pip install matplotlib"
   ]
  },
  {
   "cell_type": "code",
   "execution_count": 16,
   "metadata": {},
   "outputs": [
    {
     "data": {
      "text/plain": [
       "[<matplotlib.lines.Line2D at 0x7f1773129d60>,\n",
       " <matplotlib.lines.Line2D at 0x7f1773129dc0>]"
      ]
     },
     "execution_count": 16,
     "metadata": {},
     "output_type": "execute_result"
    },
    {
     "data": {
      "image/png": "[encoded data removed]",
      "text/plain": [
       "<Figure size 640x480 with 1 Axes>"
      ]
     },
     "metadata": {},
     "output_type": "display_data"
    }
   ],
   "source": [
    "import matplotlib.pyplot as plt\n",
    "x_axis=[]\n",
    "y_axis=[]\n",
    "for i, value in enumerate(error_data):\n",
    "   x_axis.append(i)\n",
    "   y_axis.append(value)\n",
    "plt.plot(x_axis, y_axis)"
   ]
  },
  {
   "cell_type": "code",
   "execution_count": 17,
   "metadata": {},
   "outputs": [
    {
     "data": {
      "text/plain": [
       "array([1.00000071, 1.00000051])"
      ]
     },
     "execution_count": 17,
     "metadata": {},
     "output_type": "execute_result"
    }
   ],
   "source": [
    "topred=np.array([0,1])\n",
    "result=np.dot(topred,weight)+bias\n",
    "res=sigmoid_function(result)\n",
    "res"
   ]
  },
  {
   "cell_type": "code",
   "execution_count": 18,
   "metadata": {},
   "outputs": [],
   "source": [
    "mytrained_network={\n",
    "    \"weight\":weight, \n",
    "    \"bias\":bias\n",
    "    }"
   ]
  },
  {
   "cell_type": "code",
   "execution_count": 19,
   "metadata": {},
   "outputs": [],
   "source": [
    "import pickle\n",
    "with open(\"myfirstnn.pickle\",'wb') as handle:\n",
    "    pickle.dump(mytrained_network,handle)"
   ]
  }
 ],
 "metadata": {
  "kernelspec": {
   "display_name": ".venv",
   "language": "python",
   "name": "python3"
  },
  "language_info": {
   "codemirror_mode": {
    "name": "ipython",
    "version": 3
   },
   "file_extension": ".py",
   "mimetype": "text/x-python",
   "name": "python",
   "nbconvert_exporter": "python",
   "pygments_lexer": "ipython3",
   "version": "3.8.10"
  },
  "orig_nbformat": 4
 },
 "nbformat": 4,
 "nbformat_minor": 2
}
